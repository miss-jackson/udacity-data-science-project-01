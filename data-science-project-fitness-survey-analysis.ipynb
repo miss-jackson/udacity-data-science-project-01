{
 "cells": [
  {
   "cell_type": "markdown",
   "id": "dd2687a6",
   "metadata": {
    "_cell_guid": "b1076dfc-b9ad-4769-8c92-a6c4dae69d19",
    "_uuid": "8f2839f25d086af736a60e9eeb907d3b93b6e0e5",
    "execution": {
     "iopub.execute_input": "2022-02-06T19:51:45.165057Z",
     "iopub.status.busy": "2022-02-06T19:51:45.164746Z",
     "iopub.status.idle": "2022-02-06T19:51:45.201013Z",
     "shell.execute_reply": "2022-02-06T19:51:45.200397Z",
     "shell.execute_reply.started": "2022-02-06T19:51:45.165021Z"
    },
    "papermill": {
     "duration": 0.014933,
     "end_time": "2022-02-06T20:50:59.544548",
     "exception": false,
     "start_time": "2022-02-06T20:50:59.529615",
     "status": "completed"
    },
    "tags": []
   },
   "source": [
    "# Fitness Analysis\n",
    "This report was prepared as part of the Udacity Data Scientist Nanodegree Progam. This is my first public data science project. \n",
    "The dataset for this project is fitness analysis provided at kaggle (https://www.kaggle.com/nithilaa/fitness-analysis). It is a survey covering fitness level, wellbeing and populare activities of 545 people. \n",
    "We will answere the following questions in this analysis:\n",
    "* Are exercises more likely done alone or in a group?\n",
    "* What are the most popular activities? And when do people exercise?\n",
    "* If people do not exercise, how will they describe their fitness level? Are rather women describing themselves as unfit?\n",
    "* Do people exercising at least three times a week have shorter units than people having a lower weekly frequency?\n"
   ]
  },
  {
   "cell_type": "code",
   "execution_count": 1,
   "id": "3b2b07ef",
   "metadata": {
    "execution": {
     "iopub.execute_input": "2022-02-06T20:50:59.581618Z",
     "iopub.status.busy": "2022-02-06T20:50:59.581117Z",
     "iopub.status.idle": "2022-02-06T20:51:00.770318Z",
     "shell.execute_reply": "2022-02-06T20:51:00.770896Z",
     "shell.execute_reply.started": "2022-02-06T20:36:26.574747Z"
    },
    "papermill": {
     "duration": 1.212151,
     "end_time": "2022-02-06T20:51:00.771223",
     "exception": false,
     "start_time": "2022-02-06T20:50:59.559072",
     "status": "completed"
    },
    "tags": []
   },
   "outputs": [
    {
     "data": {
      "text/html": [
       "<div>\n",
       "<style scoped>\n",
       "    .dataframe tbody tr th:only-of-type {\n",
       "        vertical-align: middle;\n",
       "    }\n",
       "\n",
       "    .dataframe tbody tr th {\n",
       "        vertical-align: top;\n",
       "    }\n",
       "\n",
       "    .dataframe thead th {\n",
       "        text-align: right;\n",
       "    }\n",
       "</style>\n",
       "<table border=\"1\" class=\"dataframe\">\n",
       "  <thead>\n",
       "    <tr style=\"text-align: right;\">\n",
       "      <th></th>\n",
       "      <th>Timestamp</th>\n",
       "      <th>Your name</th>\n",
       "      <th>Your gender</th>\n",
       "      <th>Your age</th>\n",
       "      <th>How important is exercise to you ?</th>\n",
       "      <th>How do you describe your current level of fitness ?</th>\n",
       "      <th>How often do you exercise?</th>\n",
       "      <th>What barriers, if any, prevent you from exercising more regularly?           (Please select all that apply)</th>\n",
       "      <th>What form(s) of exercise do you currently participate in ?                        (Please select all that apply)</th>\n",
       "      <th>Do you exercise ___________ ?</th>\n",
       "      <th>What time if the day do you prefer to exercise?</th>\n",
       "      <th>How long do you spend exercising per day ?</th>\n",
       "      <th>Would you say you eat a healthy balanced diet ?</th>\n",
       "      <th>What prevents you from eating a healthy balanced diet, If any?                         (Please select all that apply)</th>\n",
       "      <th>How healthy do you consider yourself?</th>\n",
       "      <th>Have you ever recommended your friends to follow a fitness routine?</th>\n",
       "      <th>Have you ever purchased a fitness equipment?</th>\n",
       "      <th>What motivates you to exercise?         (Please select all that applies )</th>\n",
       "    </tr>\n",
       "  </thead>\n",
       "  <tbody>\n",
       "    <tr>\n",
       "      <th>0</th>\n",
       "      <td>2019/07/03 11:48:07 PM GMT+5:30</td>\n",
       "      <td>Parkavi</td>\n",
       "      <td>Female</td>\n",
       "      <td>19 to 25</td>\n",
       "      <td>2</td>\n",
       "      <td>Good</td>\n",
       "      <td>Never</td>\n",
       "      <td>I don't have enough time;I can't stay motivated</td>\n",
       "      <td>I don't really exercise</td>\n",
       "      <td>I don't really exercise</td>\n",
       "      <td>Early morning</td>\n",
       "      <td>I don't really exercise</td>\n",
       "      <td>Not always</td>\n",
       "      <td>Ease of access to fast food;Temptation and cra...</td>\n",
       "      <td>3</td>\n",
       "      <td>Yes</td>\n",
       "      <td>No</td>\n",
       "      <td>I'm sorry ... I'm not really interested in exe...</td>\n",
       "    </tr>\n",
       "    <tr>\n",
       "      <th>1</th>\n",
       "      <td>2019/07/03 11:51:22 PM GMT+5:30</td>\n",
       "      <td>Nithilaa</td>\n",
       "      <td>Female</td>\n",
       "      <td>19 to 25</td>\n",
       "      <td>4</td>\n",
       "      <td>Very good</td>\n",
       "      <td>Never</td>\n",
       "      <td>I don't have enough time;I'll become too tired</td>\n",
       "      <td>Walking or jogging;Swimming</td>\n",
       "      <td>With a group</td>\n",
       "      <td>Early morning</td>\n",
       "      <td>I don't really exercise</td>\n",
       "      <td>Not always</td>\n",
       "      <td>Ease of access to fast food;Temptation and cra...</td>\n",
       "      <td>4</td>\n",
       "      <td>Yes</td>\n",
       "      <td>No</td>\n",
       "      <td>I want to be fit;I want to be flexible;I want ...</td>\n",
       "    </tr>\n",
       "    <tr>\n",
       "      <th>2</th>\n",
       "      <td>2019/07/03 11:56:28 PM GMT+5:30</td>\n",
       "      <td>Karunya v</td>\n",
       "      <td>Female</td>\n",
       "      <td>15 to 18</td>\n",
       "      <td>3</td>\n",
       "      <td>Good</td>\n",
       "      <td>1 to 2 times a week</td>\n",
       "      <td>I can't stay motivated</td>\n",
       "      <td>Walking or jogging</td>\n",
       "      <td>Alone</td>\n",
       "      <td>Early morning</td>\n",
       "      <td>30 minutes</td>\n",
       "      <td>Not always</td>\n",
       "      <td>Temptation and cravings</td>\n",
       "      <td>4</td>\n",
       "      <td>Yes</td>\n",
       "      <td>Yes</td>\n",
       "      <td>I want to be fit</td>\n",
       "    </tr>\n",
       "  </tbody>\n",
       "</table>\n",
       "</div>"
      ],
      "text/plain": [
       "                         Timestamp Your name  Your gender  Your age   \\\n",
       "0  2019/07/03 11:48:07 PM GMT+5:30    Parkavi       Female  19 to 25   \n",
       "1  2019/07/03 11:51:22 PM GMT+5:30   Nithilaa       Female  19 to 25   \n",
       "2  2019/07/03 11:56:28 PM GMT+5:30  Karunya v       Female  15 to 18   \n",
       "\n",
       "   How important is exercise to you ?  \\\n",
       "0                                   2   \n",
       "1                                   4   \n",
       "2                                   3   \n",
       "\n",
       "  How do you describe your current level of fitness ?  \\\n",
       "0                                               Good    \n",
       "1                                          Very good    \n",
       "2                                               Good    \n",
       "\n",
       "  How often do you exercise?  \\\n",
       "0                      Never   \n",
       "1                      Never   \n",
       "2        1 to 2 times a week   \n",
       "\n",
       "  What barriers, if any, prevent you from exercising more regularly?           (Please select all that apply)  \\\n",
       "0    I don't have enough time;I can't stay motivated                                                            \n",
       "1     I don't have enough time;I'll become too tired                                                            \n",
       "2                             I can't stay motivated                                                            \n",
       "\n",
       "  What form(s) of exercise do you currently participate in ?                        (Please select all that apply)  \\\n",
       "0                            I don't really exercise                                                                 \n",
       "1                        Walking or jogging;Swimming                                                                 \n",
       "2                                 Walking or jogging                                                                 \n",
       "\n",
       "  Do you exercise ___________ ?  \\\n",
       "0       I don't really exercise   \n",
       "1                  With a group   \n",
       "2                         Alone   \n",
       "\n",
       "  What time if the day do you prefer to exercise?  \\\n",
       "0                                   Early morning   \n",
       "1                                   Early morning   \n",
       "2                                   Early morning   \n",
       "\n",
       "  How long do you spend exercising per day ?  \\\n",
       "0                    I don't really exercise   \n",
       "1                    I don't really exercise   \n",
       "2                                 30 minutes   \n",
       "\n",
       "  Would you say you eat a healthy balanced diet ?  \\\n",
       "0                                      Not always   \n",
       "1                                      Not always   \n",
       "2                                      Not always   \n",
       "\n",
       "  What prevents you from eating a healthy balanced diet, If any?                         (Please select all that apply)  \\\n",
       "0  Ease of access to fast food;Temptation and cra...                                                                      \n",
       "1  Ease of access to fast food;Temptation and cra...                                                                      \n",
       "2                            Temptation and cravings                                                                      \n",
       "\n",
       "   How healthy do you consider yourself?  \\\n",
       "0                                      3   \n",
       "1                                      4   \n",
       "2                                      4   \n",
       "\n",
       "  Have you ever recommended your friends to follow a fitness routine?  \\\n",
       "0                                                Yes                    \n",
       "1                                                Yes                    \n",
       "2                                                Yes                    \n",
       "\n",
       "  Have you ever purchased a fitness equipment?  \\\n",
       "0                                           No   \n",
       "1                                           No   \n",
       "2                                          Yes   \n",
       "\n",
       "  What motivates you to exercise?         (Please select all that applies )  \n",
       "0  I'm sorry ... I'm not really interested in exe...                         \n",
       "1  I want to be fit;I want to be flexible;I want ...                         \n",
       "2                                   I want to be fit                         "
      ]
     },
     "execution_count": 1,
     "metadata": {},
     "output_type": "execute_result"
    }
   ],
   "source": [
    "import pandas as pd\n",
    "import seaborn as sb\n",
    "import matplotlib.pyplot as plt\n",
    "\n",
    "df = pd.read_csv('/kaggle/input/fitness-analysis/fitness analysis.csv')\n",
    "df.head(3)\n"
   ]
  },
  {
   "cell_type": "code",
   "execution_count": 2,
   "id": "d9b5fa87",
   "metadata": {
    "execution": {
     "iopub.execute_input": "2022-02-06T20:51:00.820699Z",
     "iopub.status.busy": "2022-02-06T20:51:00.820053Z",
     "iopub.status.idle": "2022-02-06T20:51:00.833750Z",
     "shell.execute_reply": "2022-02-06T20:51:00.833118Z",
     "shell.execute_reply.started": "2022-02-06T20:36:53.236725Z"
    },
    "papermill": {
     "duration": 0.038948,
     "end_time": "2022-02-06T20:51:00.833887",
     "exception": false,
     "start_time": "2022-02-06T20:51:00.794939",
     "status": "completed"
    },
    "tags": []
   },
   "outputs": [],
   "source": [
    "# Drop name of participant\n",
    "df = df.drop('Your name ', axis=1)\n",
    "# Rename columns of data set, keep questionary in dict\n",
    "short_col_names = ['Date', 'Gender', 'Age', 'ImportanceExercise', 'FitnessLevel', 'Frequency', 'Barriers', 'Activity',\\\n",
    "    'DoYouDo', 'Daytime', 'Unit', 'Diet', 'BarriersDiet', 'SelfRatingDiet', 'RecommendedFriend', 'PurchasedEquipment', 'Motivation']\n",
    "questionaries = {k: l for k,l in zip(short_col_names, df.columns)}\n",
    "df.columns = short_col_names"
   ]
  },
  {
   "cell_type": "markdown",
   "id": "1af08eeb",
   "metadata": {
    "execution": {
     "iopub.execute_input": "2022-02-06T19:53:05.428704Z",
     "iopub.status.busy": "2022-02-06T19:53:05.428078Z",
     "iopub.status.idle": "2022-02-06T19:53:05.432673Z",
     "shell.execute_reply": "2022-02-06T19:53:05.431809Z",
     "shell.execute_reply.started": "2022-02-06T19:53:05.428657Z"
    },
    "papermill": {
     "duration": 0.014689,
     "end_time": "2022-02-06T20:51:00.863284",
     "exception": false,
     "start_time": "2022-02-06T20:51:00.848595",
     "status": "completed"
    },
    "tags": []
   },
   "source": [
    "## Facts about the data set"
   ]
  },
  {
   "cell_type": "code",
   "execution_count": 3,
   "id": "a20dce64",
   "metadata": {
    "execution": {
     "iopub.execute_input": "2022-02-06T20:51:00.895956Z",
     "iopub.status.busy": "2022-02-06T20:51:00.895426Z",
     "iopub.status.idle": "2022-02-06T20:51:00.990921Z",
     "shell.execute_reply": "2022-02-06T20:51:00.991414Z",
     "shell.execute_reply.started": "2022-02-06T20:01:22.690107Z"
    },
    "papermill": {
     "duration": 0.1133,
     "end_time": "2022-02-06T20:51:00.991580",
     "exception": false,
     "start_time": "2022-02-06T20:51:00.878280",
     "status": "completed"
    },
    "tags": []
   },
   "outputs": [
    {
     "name": "stdout",
     "output_type": "stream",
     "text": [
      "Number of participants: 545\n",
      "Proportion of women: 55.4%\n",
      "The survey was in 2019.7 and took 17 days.\n"
     ]
    }
   ],
   "source": [
    "print('Number of participants: {}'.format(df.shape[0]))\n",
    "nr_women = (df['Gender'] == 'Female').sum()/df.shape[0] * 100\n",
    "print('Proportion of women: {:.1f}%'.format(nr_women))\n",
    "# Time period of survey\n",
    "timestamp = pd.to_datetime(df.Date)\n",
    "period = (timestamp.min().year, timestamp.min().month, (timestamp.max() - timestamp.min()).days)\n",
    "print('The survey was in {}.{} and took {} days.'.format(*period))"
   ]
  },
  {
   "cell_type": "markdown",
   "id": "0e69f889",
   "metadata": {
    "papermill": {
     "duration": 0.015107,
     "end_time": "2022-02-06T20:51:01.021799",
     "exception": false,
     "start_time": "2022-02-06T20:51:01.006692",
     "status": "completed"
    },
    "tags": []
   },
   "source": [
    "# Question 1:Are exercises more likely done alone or in a group?\n"
   ]
  },
  {
   "cell_type": "code",
   "execution_count": 4,
   "id": "2c49a734",
   "metadata": {
    "execution": {
     "iopub.execute_input": "2022-02-06T20:51:01.055273Z",
     "iopub.status.busy": "2022-02-06T20:51:01.054642Z",
     "iopub.status.idle": "2022-02-06T20:51:01.315987Z",
     "shell.execute_reply": "2022-02-06T20:51:01.315521Z",
     "shell.execute_reply.started": "2022-02-06T20:38:14.090717Z"
    },
    "papermill": {
     "duration": 0.278943,
     "end_time": "2022-02-06T20:51:01.316152",
     "exception": false,
     "start_time": "2022-02-06T20:51:01.037209",
     "status": "completed"
    },
    "tags": []
   },
   "outputs": [
    {
     "data": {
      "image/png": "[encoded data removed]",
      "text/plain": [
       "<Figure size 432x288 with 1 Axes>"
      ]
     },
     "metadata": {
      "needs_background": "light"
     },
     "output_type": "display_data"
    }
   ],
   "source": [
    "df['DoYouDo'].hist().set(title='Absolute frequency of peoples exercise kind');\n",
    "plt.xticks(rotation=30, horizontalalignment=\"center\");"
   ]
  },
  {
   "cell_type": "code",
   "execution_count": 5,
   "id": "e7cc42ba",
   "metadata": {
    "execution": {
     "iopub.execute_input": "2022-02-06T20:51:01.352783Z",
     "iopub.status.busy": "2022-02-06T20:51:01.352039Z",
     "iopub.status.idle": "2022-02-06T20:51:01.364693Z",
     "shell.execute_reply": "2022-02-06T20:51:01.365184Z",
     "shell.execute_reply.started": "2022-02-06T20:39:34.699897Z"
    },
    "papermill": {
     "duration": 0.033019,
     "end_time": "2022-02-06T20:51:01.365362",
     "exception": false,
     "start_time": "2022-02-06T20:51:01.332343",
     "status": "completed"
    },
    "tags": []
   },
   "outputs": [
    {
     "name": "stdout",
     "output_type": "stream",
     "text": [
      "Relative frequency of how do people exercise\n"
     ]
    },
    {
     "data": {
      "text/plain": [
       "Alone                         53.027523\n",
       "I don't really exercise       16.330275\n",
       "With a friend                 15.596330\n",
       "With a group                  12.110092\n",
       "Within a class environment     2.935780\n",
       "Name: DoYouDo, dtype: float64"
      ]
     },
     "execution_count": 5,
     "metadata": {},
     "output_type": "execute_result"
    }
   ],
   "source": [
    "print('Relative frequency of how do people exercise')\n",
    "df.DoYouDo.value_counts(True)*100"
   ]
  },
  {
   "cell_type": "markdown",
   "id": "861dae57",
   "metadata": {
    "papermill": {
     "duration": 0.016173,
     "end_time": "2022-02-06T20:51:01.398143",
     "exception": false,
     "start_time": "2022-02-06T20:51:01.381970",
     "status": "completed"
    },
    "tags": []
   },
   "source": [
    "### Answer Question 1\n",
    "Only one in six does not exercise. The majority, over 50% of those surveyed, do exercise alone. Every third respondent likes to do some sport together with others."
   ]
  },
  {
   "cell_type": "markdown",
   "id": "7c16944c",
   "metadata": {
    "papermill": {
     "duration": 0.016347,
     "end_time": "2022-02-06T20:51:01.430927",
     "exception": false,
     "start_time": "2022-02-06T20:51:01.414580",
     "status": "completed"
    },
    "tags": []
   },
   "source": [
    "# Question 2\n",
    "## What are the most popular activities? And when do people exercise?"
   ]
  },
  {
   "cell_type": "markdown",
   "id": "bf6e8d8f",
   "metadata": {
    "papermill": {
     "duration": 0.016365,
     "end_time": "2022-02-06T20:51:01.464042",
     "exception": false,
     "start_time": "2022-02-06T20:51:01.447677",
     "status": "completed"
    },
    "tags": []
   },
   "source": []
  },
  {
   "cell_type": "code",
   "execution_count": 6,
   "id": "fc0df94c",
   "metadata": {
    "execution": {
     "iopub.execute_input": "2022-02-06T20:51:01.505572Z",
     "iopub.status.busy": "2022-02-06T20:51:01.500394Z",
     "iopub.status.idle": "2022-02-06T20:51:01.507451Z",
     "shell.execute_reply": "2022-02-06T20:51:01.507951Z",
     "shell.execute_reply.started": "2022-02-06T20:40:51.458436Z"
    },
    "jupyter": {
     "source_hidden": true
    },
    "papermill": {
     "duration": 0.027423,
     "end_time": "2022-02-06T20:51:01.508157",
     "exception": false,
     "start_time": "2022-02-06T20:51:01.480734",
     "status": "completed"
    },
    "tags": []
   },
   "outputs": [],
   "source": [
    "def break_manifold_answer_get_relation(dt_frm, col_manifold, col_relation, str_separator=';'):\n",
    "    \"\"\"\n",
    "    method to split entries of a column when multiple answers were given and get relationship to a second column\n",
    "    Parameters\n",
    "        dt_frm : pandas dataframe\n",
    "                dataframe with data entries of multiple answers and column with data to get relationship\n",
    "        col_manifold : string\n",
    "                column name of data entries with multiple answers; data entry is string\n",
    "        col_relation : string\n",
    "                name of column with data of certain relationsship\n",
    "        str_separator : string\n",
    "                split string in col_manifold using this separator; default is ;\n",
    "    Returns \n",
    "        dt_frm_relationship : pandas dataframe\n",
    "                dataframe with index = items of col_relation, columns = items of col_manifold, values = absolute frequency\n",
    "    \"\"\"\n",
    "    dt_frm_isolated = dt_frm[col_manifold].str.split(str_separator, expand=True)\n",
    "    # to get a relation to data in col_relation set it as index\n",
    "    dt_frm_isolated.set_index(dt_frm[col_relation], inplace=True)\n",
    "    \n",
    "    # reduce number of columns to a single one by method stack; with col_relation as index the isolated answers are still assigned after calling stack\n",
    "    dt_frm_stacked = dt_frm_isolated.stack()\n",
    "    dt_frm_stacked = dt_frm_stacked.droplevel(level=1)\n",
    "    dt_frm_stacked = dt_frm_stacked.reset_index(name=col_manifold)\n",
    "    \n",
    "    # grouping to get relationship between col_manifold and col_relation\n",
    "    dt_frm_group = dt_frm_stacked.groupby(by=[col_manifold, col_relation]).size()\n",
    "    dt_frm_group = dt_frm_group.reset_index(name='abs_Freq')\n",
    "\n",
    "    # reshape data frame (pivot table)\n",
    "    dt_frm_relationship = dt_frm_group.pivot(index=col_relation, columns=col_manifold, values='abs_Freq')\n",
    "    \n",
    "    return dt_frm_relationship"
   ]
  },
  {
   "cell_type": "code",
   "execution_count": 7,
   "id": "8797e3a1",
   "metadata": {
    "execution": {
     "iopub.execute_input": "2022-02-06T20:51:01.551511Z",
     "iopub.status.busy": "2022-02-06T20:51:01.550880Z",
     "iopub.status.idle": "2022-02-06T20:51:01.876479Z",
     "shell.execute_reply": "2022-02-06T20:51:01.875728Z",
     "shell.execute_reply.started": "2022-02-06T20:41:18.450926Z"
    },
    "papermill": {
     "duration": 0.351306,
     "end_time": "2022-02-06T20:51:01.876638",
     "exception": false,
     "start_time": "2022-02-06T20:51:01.525332",
     "status": "completed"
    },
    "tags": []
   },
   "outputs": [
    {
     "data": {
      "image/png": "[encoded data removed]",
      "text/plain": [
       "<Figure size 432x288 with 2 Axes>"
      ]
     },
     "metadata": {
      "needs_background": "light"
     },
     "output_type": "display_data"
    }
   ],
   "source": [
    "df_activity_daytime = break_manifold_answer_get_relation(df, 'Activity', 'Daytime')\n",
    "# drop answer \"I don't really exercise\"\n",
    "df_activity_daytime.drop(columns=[\"I don't really exercise\"], inplace=True)\n",
    "df_activity_daytime *= 100/df_activity_daytime.sum().sum() \n",
    "sb.heatmap(df_activity_daytime, annot=True, fmt=\"0.2f\", square=True).set(title='Distribution in percent of activity and daytime over all activities');"
   ]
  },
  {
   "cell_type": "markdown",
   "id": "52d926cb",
   "metadata": {
    "papermill": {
     "duration": 0.025531,
     "end_time": "2022-02-06T20:51:01.928438",
     "exception": false,
     "start_time": "2022-02-06T20:51:01.902907",
     "status": "completed"
    },
    "tags": []
   },
   "source": []
  },
  {
   "cell_type": "code",
   "execution_count": 8,
   "id": "fdcdd94f",
   "metadata": {
    "execution": {
     "iopub.execute_input": "2022-02-06T20:51:01.988042Z",
     "iopub.status.busy": "2022-02-06T20:51:01.987290Z",
     "iopub.status.idle": "2022-02-06T20:51:01.991491Z",
     "shell.execute_reply": "2022-02-06T20:51:01.990777Z",
     "shell.execute_reply.started": "2022-02-06T20:43:50.546469Z"
    },
    "papermill": {
     "duration": 0.03717,
     "end_time": "2022-02-06T20:51:01.991647",
     "exception": false,
     "start_time": "2022-02-06T20:51:01.954477",
     "status": "completed"
    },
    "tags": []
   },
   "outputs": [
    {
     "data": {
      "text/plain": [
       "Daytime\n",
       "Afternoon         2.635046\n",
       "Early morning    51.515152\n",
       "Evening          45.849802\n",
       "dtype: float64"
      ]
     },
     "execution_count": 8,
     "metadata": {},
     "output_type": "execute_result"
    }
   ],
   "source": [
    "df_activity_daytime.sum(axis=1)"
   ]
  },
  {
   "cell_type": "markdown",
   "id": "2772a2a7",
   "metadata": {
    "execution": {
     "iopub.execute_input": "2022-02-06T20:44:42.218278Z",
     "iopub.status.busy": "2022-02-06T20:44:42.217476Z",
     "iopub.status.idle": "2022-02-06T20:44:42.225394Z",
     "shell.execute_reply": "2022-02-06T20:44:42.224335Z",
     "shell.execute_reply.started": "2022-02-06T20:44:42.218238Z"
    },
    "papermill": {
     "duration": 0.02667,
     "end_time": "2022-02-06T20:51:02.045427",
     "exception": false,
     "start_time": "2022-02-06T20:51:02.018757",
     "status": "completed"
    },
    "tags": []
   },
   "source": [
    "### Answer Question 2\n",
    "Most of the people (41.8% of the people who do sports) like to go for a walk or to go jogging. In general to do some exercises early in the morning is slightly more common than in the evening. The second most popular exercise is going to the gym. It is a bit more frequent to do it in the evening. Taking a look at the activity Yoga we see it is famous to do it early in the morning. Using the afternoon for sports activities is untypical.  "
   ]
  },
  {
   "cell_type": "markdown",
   "id": "91faea4d",
   "metadata": {
    "papermill": {
     "duration": 0.026603,
     "end_time": "2022-02-06T20:51:02.098527",
     "exception": false,
     "start_time": "2022-02-06T20:51:02.071924",
     "status": "completed"
    },
    "tags": []
   },
   "source": [
    "# Question 3\n",
    "## If people do not exercise, how will they describe their fitness level? Are rather women describing themselves as unfit?"
   ]
  },
  {
   "cell_type": "code",
   "execution_count": 9,
   "id": "0f8ccd64",
   "metadata": {
    "execution": {
     "iopub.execute_input": "2022-02-06T20:51:02.156527Z",
     "iopub.status.busy": "2022-02-06T20:51:02.155889Z",
     "iopub.status.idle": "2022-02-06T20:51:02.160552Z",
     "shell.execute_reply": "2022-02-06T20:51:02.161252Z",
     "shell.execute_reply.started": "2022-02-06T20:46:04.249257Z"
    },
    "papermill": {
     "duration": 0.034128,
     "end_time": "2022-02-06T20:51:02.161457",
     "exception": false,
     "start_time": "2022-02-06T20:51:02.127329",
     "status": "completed"
    },
    "tags": []
   },
   "outputs": [],
   "source": [
    "# Definition of people who don't exercise\n",
    "# answered \"I don't really exercise\" on question \"Do you exercise?\"\n",
    "no_exercise_str = \"I don't really exercise\"\n",
    "mask = df.DoYouDo == no_exercise_str\n",
    "df_unactive = df.loc[mask].copy()"
   ]
  },
  {
   "cell_type": "code",
   "execution_count": 10,
   "id": "e2295336",
   "metadata": {
    "execution": {
     "iopub.execute_input": "2022-02-06T20:51:02.217527Z",
     "iopub.status.busy": "2022-02-06T20:51:02.216820Z",
     "iopub.status.idle": "2022-02-06T20:51:02.454767Z",
     "shell.execute_reply": "2022-02-06T20:51:02.454005Z",
     "shell.execute_reply.started": "2022-02-06T20:46:17.573997Z"
    },
    "papermill": {
     "duration": 0.266856,
     "end_time": "2022-02-06T20:51:02.454927",
     "exception": false,
     "start_time": "2022-02-06T20:51:02.188071",
     "status": "completed"
    },
    "tags": []
   },
   "outputs": [
    {
     "data": {
      "image/png": "[encoded data removed]",
      "text/plain": [
       "<Figure size 432x288 with 1 Axes>"
      ]
     },
     "metadata": {
      "needs_background": "light"
     },
     "output_type": "display_data"
    }
   ],
   "source": [
    "# histogram plot\n",
    "df_unactive.FitnessLevel = pd.Categorical(df_unactive['FitnessLevel'].copy(), categories=['Unfit', 'Average', 'Good', 'Very Good', 'Perfect'], ordered=True)\n",
    "df_unactive.sort_values(by=['FitnessLevel'], inplace=True)\n",
    "sb.histplot(data=df_unactive.dropna(axis=0, subset=['FitnessLevel']), x='FitnessLevel', hue='Gender', multiple='stack').set(title='Absolute Frequency of fitness level');"
   ]
  },
  {
   "cell_type": "code",
   "execution_count": 11,
   "id": "280aefdb",
   "metadata": {
    "execution": {
     "iopub.execute_input": "2022-02-06T20:51:02.521361Z",
     "iopub.status.busy": "2022-02-06T20:51:02.520431Z",
     "iopub.status.idle": "2022-02-06T20:51:02.523895Z",
     "shell.execute_reply": "2022-02-06T20:51:02.524556Z",
     "shell.execute_reply.started": "2022-02-06T20:46:36.284922Z"
    },
    "papermill": {
     "duration": 0.042219,
     "end_time": "2022-02-06T20:51:02.524763",
     "exception": false,
     "start_time": "2022-02-06T20:51:02.482544",
     "status": "completed"
    },
    "tags": []
   },
   "outputs": [
    {
     "name": "stdout",
     "output_type": "stream",
     "text": [
      "self-evaluation fitness level of people who don't really exercise in percentage\n",
      "Women:\n",
      "Average      0.440678\n",
      "Unfit        0.288136\n",
      "Good         0.271186\n",
      "Very Good    0.000000\n",
      "Perfect      0.000000\n",
      "Name: FitnessLevel, dtype: float64\n",
      "Men:\n",
      "Average      0.482759\n",
      "Unfit        0.344828\n",
      "Good         0.172414\n",
      "Very Good    0.000000\n",
      "Perfect      0.000000\n",
      "Name: FitnessLevel, dtype: float64\n"
     ]
    }
   ],
   "source": [
    "print(\"self-evaluation fitness level of people who don't really exercise in percentage\")\n",
    "print(\"Women:\")\n",
    "print(df_unactive.FitnessLevel[df_unactive.Gender == 'Female'].value_counts(normalize=True))\n",
    "print(\"Men:\")\n",
    "print(df_unactive.FitnessLevel[df_unactive.Gender == 'Male'].value_counts(normalize=True))"
   ]
  },
  {
   "cell_type": "markdown",
   "id": "2383b857",
   "metadata": {
    "papermill": {
     "duration": 0.031326,
     "end_time": "2022-02-06T20:51:02.589650",
     "exception": false,
     "start_time": "2022-02-06T20:51:02.558324",
     "status": "completed"
    },
    "tags": []
   },
   "source": [
    "### Answer Question 3\n",
    "Nearly the half of the participants describing their fitness level as average. Even this people do not really exercise. One in four has indicated a good fitness level. A clear difference between the genders cannot derive.\n"
   ]
  },
  {
   "cell_type": "markdown",
   "id": "6ad773d7",
   "metadata": {
    "papermill": {
     "duration": 0.018754,
     "end_time": "2022-02-06T20:51:02.639878",
     "exception": false,
     "start_time": "2022-02-06T20:51:02.621124",
     "status": "completed"
    },
    "tags": []
   },
   "source": [
    "# Question 4\n",
    "## Do people exercising at least three times a week have shorter units than people having a lower weekly frequency?"
   ]
  },
  {
   "cell_type": "code",
   "execution_count": 12,
   "id": "8eb91bd7",
   "metadata": {
    "execution": {
     "iopub.execute_input": "2022-02-06T20:51:02.688546Z",
     "iopub.status.busy": "2022-02-06T20:51:02.687693Z",
     "iopub.status.idle": "2022-02-06T20:51:02.949564Z",
     "shell.execute_reply": "2022-02-06T20:51:02.950005Z",
     "shell.execute_reply.started": "2022-02-06T20:47:19.069693Z"
    },
    "papermill": {
     "duration": 0.292359,
     "end_time": "2022-02-06T20:51:02.950210",
     "exception": false,
     "start_time": "2022-02-06T20:51:02.657851",
     "status": "completed"
    },
    "tags": []
   },
   "outputs": [
    {
     "data": {
      "image/png": "[encoded data removed]",
      "text/plain": [
       "<Figure size 432x288 with 2 Axes>"
      ]
     },
     "metadata": {
      "needs_background": "light"
     },
     "output_type": "display_data"
    }
   ],
   "source": [
    "df_frq_unit = df.groupby(by=['Frequency', 'Unit']).size()\n",
    "df_frq_unit = df_frq_unit.reset_index(name='abs_Freq')\n",
    "df_frq_unit_p = df_frq_unit.pivot(index='Frequency', columns='Unit', values='abs_Freq')\n",
    "\n",
    "# drop 'Never' in Frequency ('How often do you exercise?')\n",
    "# drop 'I don't really exercise' in Unit \n",
    "df_frq_unit_p.drop('Never', axis=0, inplace=True)\n",
    "df_frq_unit_p.drop(no_exercise_str, axis=1, inplace=True)\n",
    "\n",
    "# reorder\n",
    "df_frq_unit_p = df_frq_unit_p[['30 minutes', '1 hour', '2 hours', '3 hours and above']]\n",
    "\n",
    "# normalize within a row ('Frequency')\n",
    "df_frq_unit_p = df_frq_unit_p.divide(df_frq_unit_p.sum(axis=1)/100, axis=0)\n",
    "\n",
    "sb.heatmap(df_frq_unit_p, annot=True, fmt=\"0.2f\", square=True).set(title='Distribution in percent within a group of weekly units');"
   ]
  },
  {
   "cell_type": "markdown",
   "id": "93760207",
   "metadata": {
    "papermill": {
     "duration": 0.023123,
     "end_time": "2022-02-06T20:51:02.997511",
     "exception": false,
     "start_time": "2022-02-06T20:51:02.974388",
     "status": "completed"
    },
    "tags": []
   },
   "source": [
    "### Answer Question 4\n",
    "People exercising at least 3 times a week don't do shorter units than people exercising twice or less a week. For this group a typical unit is one hour. Most of the people exercising twice a week or less do a 30 minutes unit. Time-intensive training units are very uncommon for people exercising once, twice or three times a week. The training units of everyday actives are almost uniform distributed between half an hour and two hours. "
   ]
  },
  {
   "cell_type": "code",
   "execution_count": null,
   "id": "cde5a364",
   "metadata": {
    "papermill": {
     "duration": 0.020452,
     "end_time": "2022-02-06T20:51:03.040046",
     "exception": false,
     "start_time": "2022-02-06T20:51:03.019594",
     "status": "completed"
    },
    "tags": []
   },
   "outputs": [],
   "source": []
  }
 ],
 "metadata": {
  "kernelspec": {
   "display_name": "Python 3",
   "language": "python",
   "name": "python3"
  },
  "language_info": {
   "codemirror_mode": {
    "name": "ipython",
    "version": 3
   },
   "file_extension": ".py",
   "mimetype": "text/x-python",
   "name": "python",
   "nbconvert_exporter": "python",
   "pygments_lexer": "ipython3",
   "version": "3.7.12"
  },
  "papermill": {
   "default_parameters": {},
   "duration": 15.223951,
   "end_time": "2022-02-06T20:51:03.870224",
   "environment_variables": {},
   "exception": null,
   "input_path": "__notebook__.ipynb",
   "output_path": "__notebook__.ipynb",
   "parameters": {},
   "start_time": "2022-02-06T20:50:48.646273",
   "version": "2.3.3"
  }
 },
 "nbformat": 4,
 "nbformat_minor": 5
}
